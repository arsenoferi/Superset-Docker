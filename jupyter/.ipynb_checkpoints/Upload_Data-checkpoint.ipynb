{
 "cells": [
  {
   "cell_type": "code",
   "execution_count": 1,
   "id": "d2159567-f83d-43f4-84af-2d47af7f5e40",
   "metadata": {},
   "outputs": [],
   "source": [
    "import os\n",
    "import pandas as pd\n",
    "from sqlalchemy import create_engine"
   ]
  },
  {
   "cell_type": "code",
   "execution_count": 2,
   "id": "8b744086-7b2e-4ea3-9038-2937bbb2bb7c",
   "metadata": {},
   "outputs": [],
   "source": [
    "data_path = os.path.join(os.getcwd(),\"Data\",\"Transaksi.xlsx\")"
   ]
  },
  {
   "cell_type": "code",
   "execution_count": 3,
   "id": "f29d8fd4-8788-4f0e-b4c9-183f1fee060d",
   "metadata": {},
   "outputs": [
    {
     "data": {
      "text/html": [
       "<div>\n",
       "<style scoped>\n",
       "    .dataframe tbody tr th:only-of-type {\n",
       "        vertical-align: middle;\n",
       "    }\n",
       "\n",
       "    .dataframe tbody tr th {\n",
       "        vertical-align: top;\n",
       "    }\n",
       "\n",
       "    .dataframe thead th {\n",
       "        text-align: right;\n",
       "    }\n",
       "</style>\n",
       "<table border=\"1\" class=\"dataframe\">\n",
       "  <thead>\n",
       "    <tr style=\"text-align: right;\">\n",
       "      <th></th>\n",
       "      <th>transaction_date</th>\n",
       "      <th>stock_date</th>\n",
       "      <th>product_id</th>\n",
       "      <th>customer_id</th>\n",
       "      <th>store_id</th>\n",
       "      <th>quantity</th>\n",
       "      <th>Kategori Besar/Kecil</th>\n",
       "    </tr>\n",
       "  </thead>\n",
       "  <tbody>\n",
       "    <tr>\n",
       "      <th>0</th>\n",
       "      <td>1998-01-01</td>\n",
       "      <td>1997-12-25</td>\n",
       "      <td>4</td>\n",
       "      <td>2439</td>\n",
       "      <td>10</td>\n",
       "      <td>3</td>\n",
       "      <td>Besar</td>\n",
       "    </tr>\n",
       "    <tr>\n",
       "      <th>1</th>\n",
       "      <td>1998-01-01</td>\n",
       "      <td>1997-12-28</td>\n",
       "      <td>11</td>\n",
       "      <td>4284</td>\n",
       "      <td>10</td>\n",
       "      <td>3</td>\n",
       "      <td>Besar</td>\n",
       "    </tr>\n",
       "    <tr>\n",
       "      <th>2</th>\n",
       "      <td>1998-01-01</td>\n",
       "      <td>1997-12-28</td>\n",
       "      <td>12</td>\n",
       "      <td>534</td>\n",
       "      <td>10</td>\n",
       "      <td>3</td>\n",
       "      <td>Besar</td>\n",
       "    </tr>\n",
       "    <tr>\n",
       "      <th>3</th>\n",
       "      <td>1998-01-01</td>\n",
       "      <td>1997-12-29</td>\n",
       "      <td>14</td>\n",
       "      <td>9743</td>\n",
       "      <td>10</td>\n",
       "      <td>2</td>\n",
       "      <td>Kecil</td>\n",
       "    </tr>\n",
       "    <tr>\n",
       "      <th>4</th>\n",
       "      <td>1998-01-01</td>\n",
       "      <td>1997-12-27</td>\n",
       "      <td>16</td>\n",
       "      <td>3608</td>\n",
       "      <td>10</td>\n",
       "      <td>3</td>\n",
       "      <td>Besar</td>\n",
       "    </tr>\n",
       "    <tr>\n",
       "      <th>...</th>\n",
       "      <td>...</td>\n",
       "      <td>...</td>\n",
       "      <td>...</td>\n",
       "      <td>...</td>\n",
       "      <td>...</td>\n",
       "      <td>...</td>\n",
       "      <td>...</td>\n",
       "    </tr>\n",
       "    <tr>\n",
       "      <th>182878</th>\n",
       "      <td>1998-12-30</td>\n",
       "      <td>1998-12-29</td>\n",
       "      <td>1521</td>\n",
       "      <td>7197</td>\n",
       "      <td>11</td>\n",
       "      <td>3</td>\n",
       "      <td>Besar</td>\n",
       "    </tr>\n",
       "    <tr>\n",
       "      <th>182879</th>\n",
       "      <td>1998-12-30</td>\n",
       "      <td>1998-12-23</td>\n",
       "      <td>1536</td>\n",
       "      <td>5223</td>\n",
       "      <td>10</td>\n",
       "      <td>2</td>\n",
       "      <td>Kecil</td>\n",
       "    </tr>\n",
       "    <tr>\n",
       "      <th>182880</th>\n",
       "      <td>1998-12-30</td>\n",
       "      <td>1998-12-23</td>\n",
       "      <td>1542</td>\n",
       "      <td>8077</td>\n",
       "      <td>10</td>\n",
       "      <td>4</td>\n",
       "      <td>Besar</td>\n",
       "    </tr>\n",
       "    <tr>\n",
       "      <th>182881</th>\n",
       "      <td>1998-12-30</td>\n",
       "      <td>1998-12-28</td>\n",
       "      <td>1544</td>\n",
       "      <td>4485</td>\n",
       "      <td>10</td>\n",
       "      <td>2</td>\n",
       "      <td>Kecil</td>\n",
       "    </tr>\n",
       "    <tr>\n",
       "      <th>182882</th>\n",
       "      <td>1998-12-30</td>\n",
       "      <td>1998-12-29</td>\n",
       "      <td>1549</td>\n",
       "      <td>5223</td>\n",
       "      <td>10</td>\n",
       "      <td>3</td>\n",
       "      <td>Besar</td>\n",
       "    </tr>\n",
       "  </tbody>\n",
       "</table>\n",
       "<p>182883 rows × 7 columns</p>\n",
       "</div>"
      ],
      "text/plain": [
       "       transaction_date stock_date  product_id  customer_id  store_id  \\\n",
       "0            1998-01-01 1997-12-25           4         2439        10   \n",
       "1            1998-01-01 1997-12-28          11         4284        10   \n",
       "2            1998-01-01 1997-12-28          12          534        10   \n",
       "3            1998-01-01 1997-12-29          14         9743        10   \n",
       "4            1998-01-01 1997-12-27          16         3608        10   \n",
       "...                 ...        ...         ...          ...       ...   \n",
       "182878       1998-12-30 1998-12-29        1521         7197        11   \n",
       "182879       1998-12-30 1998-12-23        1536         5223        10   \n",
       "182880       1998-12-30 1998-12-23        1542         8077        10   \n",
       "182881       1998-12-30 1998-12-28        1544         4485        10   \n",
       "182882       1998-12-30 1998-12-29        1549         5223        10   \n",
       "\n",
       "        quantity Kategori Besar/Kecil  \n",
       "0              3                Besar  \n",
       "1              3                Besar  \n",
       "2              3                Besar  \n",
       "3              2                Kecil  \n",
       "4              3                Besar  \n",
       "...          ...                  ...  \n",
       "182878         3                Besar  \n",
       "182879         2                Kecil  \n",
       "182880         4                Besar  \n",
       "182881         2                Kecil  \n",
       "182882         3                Besar  \n",
       "\n",
       "[182883 rows x 7 columns]"
      ]
     },
     "execution_count": 3,
     "metadata": {},
     "output_type": "execute_result"
    }
   ],
   "source": [
    "transaksi = pd.read_excel(data_path,sheet_name=\"Transaksi\")\n",
    "transaksi"
   ]
  },
  {
   "cell_type": "code",
   "execution_count": 4,
   "id": "fe492fbe-b65e-4827-96a5-a1cfe47ab305",
   "metadata": {},
   "outputs": [
    {
     "name": "stdout",
     "output_type": "stream",
     "text": [
      "Requirement already satisfied: sqlalchemy in /opt/conda/lib/python3.11/site-packages (2.0.22)\n",
      "Requirement already satisfied: psycopg2-binary in /opt/conda/lib/python3.11/site-packages (2.9.9)\n",
      "Requirement already satisfied: typing-extensions>=4.2.0 in /opt/conda/lib/python3.11/site-packages (from sqlalchemy) (4.8.0)\n",
      "Requirement already satisfied: greenlet!=0.4.17 in /opt/conda/lib/python3.11/site-packages (from sqlalchemy) (3.0.0)\n"
     ]
    }
   ],
   "source": [
    "!pip install sqlalchemy psycopg2-binary"
   ]
  },
  {
   "cell_type": "code",
   "execution_count": 5,
   "id": "81039156-798e-431b-aaa7-4e6ff5127211",
   "metadata": {},
   "outputs": [],
   "source": [
    "db_user = 'postgres'\n",
    "db_password = 'postgrespassword'\n",
    "db_host = 'postgres'\n",
    "db_port = '5432'\n",
    "db_name = 'Transaction'\n",
    "\n",
    "engine = create_engine(f'postgresql+psycopg2://{db_user}:{db_password}@{db_host}:{db_port}/{db_name}')"
   ]
  },
  {
   "cell_type": "code",
   "execution_count": 6,
   "id": "82ccf976-df85-45e2-8d91-a0035ff3a4b9",
   "metadata": {},
   "outputs": [
    {
     "data": {
      "text/plain": [
       "883"
      ]
     },
     "execution_count": 6,
     "metadata": {},
     "output_type": "execute_result"
    }
   ],
   "source": [
    "transaksi.to_sql('transaksi', engine, if_exists='replace', index=False)"
   ]
  },
  {
   "cell_type": "code",
   "execution_count": 7,
   "id": "f853d190-0002-4ecb-848a-df2dbf8d6729",
   "metadata": {},
   "outputs": [],
   "source": [
    "# Store"
   ]
  },
  {
   "cell_type": "code",
   "execution_count": 8,
   "id": "5fd69ddd-98fc-4177-b9d3-b6a40d720c3e",
   "metadata": {},
   "outputs": [],
   "source": [
    "store = pd.read_excel(data_path,sheet_name=\"Store\")"
   ]
  },
  {
   "cell_type": "code",
   "execution_count": 9,
   "id": "7e9356dc-b6ac-4c29-b0b2-c4a7020e67ed",
   "metadata": {},
   "outputs": [
    {
     "data": {
      "text/plain": [
       "24"
      ]
     },
     "execution_count": 9,
     "metadata": {},
     "output_type": "execute_result"
    }
   ],
   "source": [
    "store.to_sql('store', engine, if_exists='replace', index=False)"
   ]
  },
  {
   "cell_type": "code",
   "execution_count": 10,
   "id": "e46e015f-0e6d-43ae-8ee8-621935bc0c1e",
   "metadata": {},
   "outputs": [],
   "source": [
    "Product = pd.read_excel(data_path,sheet_name=\"Product\")"
   ]
  },
  {
   "cell_type": "code",
   "execution_count": 11,
   "id": "0f97c6d9-90fd-4b93-8f17-eaf1cd0bacb6",
   "metadata": {},
   "outputs": [
    {
     "data": {
      "text/plain": [
       "560"
      ]
     },
     "execution_count": 11,
     "metadata": {},
     "output_type": "execute_result"
    }
   ],
   "source": [
    "Product.to_sql('product', engine, if_exists='replace', index=False)"
   ]
  },
  {
   "cell_type": "code",
   "execution_count": 12,
   "id": "fb6a2524-8adc-495b-a25c-31ea0c077112",
   "metadata": {},
   "outputs": [],
   "source": [
    "customer = pd.read_excel(data_path,sheet_name=\"Customer\")"
   ]
  },
  {
   "cell_type": "code",
   "execution_count": 13,
   "id": "56eedbd9-c9e2-45dc-b294-f2624e94fe2e",
   "metadata": {},
   "outputs": [
    {
     "data": {
      "text/plain": [
       "281"
      ]
     },
     "execution_count": 13,
     "metadata": {},
     "output_type": "execute_result"
    }
   ],
   "source": [
    "customer.to_sql('customer', engine, if_exists='replace', index=False)"
   ]
  },
  {
   "cell_type": "code",
   "execution_count": null,
   "id": "85d244e5-f6b9-4822-b98d-e749dbdc0017",
   "metadata": {},
   "outputs": [],
   "source": []
  }
 ],
 "metadata": {
  "kernelspec": {
   "display_name": "Python 3 (ipykernel)",
   "language": "python",
   "name": "python3"
  },
  "language_info": {
   "codemirror_mode": {
    "name": "ipython",
    "version": 3
   },
   "file_extension": ".py",
   "mimetype": "text/x-python",
   "name": "python",
   "nbconvert_exporter": "python",
   "pygments_lexer": "ipython3",
   "version": "3.11.6"
  }
 },
 "nbformat": 4,
 "nbformat_minor": 5
}
